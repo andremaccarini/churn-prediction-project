{
 "cells": [
  {
   "cell_type": "code",
   "execution_count": 28,
   "id": "6a5eddf7",
   "metadata": {},
   "outputs": [],
   "source": [
    "import os \n",
    "import warnings\n",
    "warnings.filterwarnings('ignore')\n",
    "\n",
    "import pandas as pd\n",
    "import numpy as np\n",
    "\n",
    "import matplotlib.pyplot as plt\n",
    "import seaborn as sns\n",
    "\n",
    "from sklearn.model_selection import train_test_split, cross_val_score, RandomizedSearchCV\n",
    "from sklearn.metrics import classification_report, confusion_matrix, roc_auc_score, f1_score, RocCurveDisplay, roc_curve\n",
    "from sklearn.ensemble import RandomForestClassifier\n",
    "from sklearn.linear_model import LogisticRegression\n",
    "from sklearn.svm import SVC\n",
    "\n",
    "\n",
    "import joblib"
   ]
  },
  {
   "cell_type": "code",
   "execution_count": 13,
   "id": "90c28614",
   "metadata": {},
   "outputs": [],
   "source": [
    "data_path = '../data/processed/churn_ready.csv'\n",
    "df_prot = pd.read_csv(data_path)"
   ]
  },
  {
   "cell_type": "code",
   "execution_count": 17,
   "id": "213e8349",
   "metadata": {},
   "outputs": [],
   "source": [
    "#fixing categorical variables\n",
    "df_prot = pd.get_dummies(df_prot, columns=['AgeGroup', 'TenureGroup'], drop_first=True)"
   ]
  },
  {
   "cell_type": "code",
   "execution_count": 18,
   "id": "0dd0c129",
   "metadata": {},
   "outputs": [],
   "source": [
    "X = df_prot.drop('Exited', axis=1)\n",
    "y = df_prot['Exited']\n",
    "\n",
    "X_train, X_test, y_train, y_test = train_test_split(X,y, stratify=y, test_size=0.25, random_state=42)"
   ]
  },
  {
   "cell_type": "code",
   "execution_count": null,
   "id": "2c9f14ed",
   "metadata": {},
   "outputs": [
    {
     "name": "stdout",
     "output_type": "stream",
     "text": [
      "Best Params:  {'n_estimators': 300, 'min_samples_split': 2, 'min_samples_leaf': 1, 'max_depth': None}\n",
      "F1: 0.5739130434782609\n",
      "AUC-ROC: 0.8631498916045584\n"
     ]
    }
   ],
   "source": [
    "#baseline model\n",
    "\n",
    "param_baseline = {\n",
    "    'n_estimators': [100, 200, 300, 400],\n",
    "    'max_depth': [5, 10, 20, None],\n",
    "    'min_samples_split': [2, 5, 10],\n",
    "    'min_samples_leaf': [1, 2, 4]\n",
    "}\n",
    "\n",
    "rf = RandomForestClassifier(random_state=42)\n",
    "\n",
    "random_base = RandomizedSearchCV(\n",
    "    estimator=rf,\n",
    "    param_distributions=param_baseline,\n",
    "    n_iter=20,\n",
    "    cv=5,\n",
    "    scoring='f1',\n",
    "    n_jobs=-1,\n",
    "    random_state=42\n",
    ")\n",
    "\n",
    "random_base.fit(X_train, y_train)\n",
    "\n",
    "y_pred_base = random_base.predict(X_test)\n",
    "\n",
    "baseline_f1score = f1_score(y_test, y_pred_base)\n",
    "baseline_rocauc =  roc_auc_score(y_test, random_base.predict_proba(X_test)[:, 1])\n",
    "\n",
    "print(\"Best Params: \", random_base.best_params_)\n",
    "print(\"F1:\", baseline_f1score)\n",
    "print(\"AUC-ROC:\",baseline_rocauc)\n"
   ]
  },
  {
   "cell_type": "code",
   "execution_count": null,
   "id": "e1996f7e",
   "metadata": {},
   "outputs": [
    {
     "name": "stdout",
     "output_type": "stream",
     "text": [
      "Best Params:  {'n_estimators': 400, 'min_samples_split': 2, 'min_samples_leaf': 2, 'max_depth': 10, 'class_weight': 'balanced'}\n",
      "F1: 0.6221408966148216\n",
      "AUC-ROC: 0.8715950658118705\n"
     ]
    }
   ],
   "source": [
    "# class_weight - balanced model\n",
    "\n",
    "param_balanced = {\n",
    "    'n_estimators': [100, 200, 300, 400],\n",
    "    'max_depth': [5, 10, 20, None],\n",
    "    'min_samples_split': [2, 5, 10],\n",
    "    'min_samples_leaf': [1, 2, 4],\n",
    "    'class_weight': ['balanced']\n",
    "}\n",
    "\n",
    "random_balanced = RandomizedSearchCV(\n",
    "    estimator=rf,\n",
    "    param_distributions=param_balanced,\n",
    "    n_iter=20,\n",
    "    cv=5,\n",
    "    scoring='f1',\n",
    "    n_jobs=-1,\n",
    "    random_state=42\n",
    ")\n",
    "\n",
    "random_balanced.fit(X_train, y_train)\n",
    "\n",
    "y_pred_balanced = random_balanced.predict(X_test)\n",
    "\n",
    "balanced_f1score = f1_score(y_test, y_pred_balanced)\n",
    "balanced_rocauc =  roc_auc_score(y_test, random_balanced.predict_proba(X_test)[:, 1])\n",
    "\n",
    "print(\"Best Params: \", random_balanced.best_params_)\n",
    "print(\"F1:\", balanced_f1score)\n",
    "print(\"AUC-ROC:\", balanced_rocauc)"
   ]
  },
  {
   "cell_type": "code",
   "execution_count": 21,
   "id": "577c9779",
   "metadata": {},
   "outputs": [
    {
     "name": "stdout",
     "output_type": "stream",
     "text": [
      "Best Params:  {'n_estimators': 200, 'min_samples_split': 5, 'min_samples_leaf': 2, 'max_depth': None}\n",
      "F1: 0.7781036168132942\n",
      "AUC-ROC: 0.8595053738587773\n"
     ]
    }
   ],
   "source": [
    "#under-sampling model\n",
    "\n",
    "def random_undersample(X, y, random_state=None):\n",
    "\n",
    "    if isinstance(X, np.ndarray):\n",
    "        X = pd.DataFrame(X)\n",
    "    if isinstance(y, np.ndarray):\n",
    "        y = pd.Series(y)\n",
    "\n",
    "    np.random.seed(random_state)\n",
    "\n",
    "    # Contar os exemplos de cada classe\n",
    "    class_counts = y.value_counts()\n",
    "    min_class = class_counts.idxmin()\n",
    "    min_count = class_counts.min()\n",
    "\n",
    "    # Coletar os índices da classe minoritária\n",
    "    indices_to_keep = y[y == min_class].index.tolist()\n",
    "\n",
    "    # Para as outras classes, fazer undersampling\n",
    "    for cls in class_counts.index:\n",
    "        if cls != min_class:\n",
    "            cls_indices = y[y == cls].index.tolist()\n",
    "            sampled_indices = np.random.choice(cls_indices, min_count, replace=False)\n",
    "            indices_to_keep.extend(sampled_indices)\n",
    "\n",
    "    # Embaralhar os índices selecionados\n",
    "    np.random.shuffle(indices_to_keep)\n",
    "\n",
    "    # Retornar os dados balanceados\n",
    "    X_resampled = X.loc[indices_to_keep].reset_index(drop=True)\n",
    "    y_resampled = y.loc[indices_to_keep].reset_index(drop=True)\n",
    "\n",
    "    return X_resampled, y_resampled\n",
    "\n",
    "X_res, y_res = random_undersample(X, y, random_state=42)\n",
    "\n",
    "Xr_train, Xr_test, yr_train, yr_test = train_test_split(X_res, y_res, stratify=y_res, test_size=0.25, random_state=42)\n",
    "\n",
    "random_undsamp = RandomizedSearchCV(\n",
    "    estimator=rf,\n",
    "    param_distributions=param_baseline,\n",
    "    n_iter=20,\n",
    "    cv=5, \n",
    "    scoring='f1',\n",
    "    n_jobs=-1,\n",
    "    random_state=42\n",
    ")\n",
    "\n",
    "random_undsamp.fit(Xr_train, yr_train)\n",
    "\n",
    "y_pred_undsamp = random_undsamp.predict(Xr_test)\n",
    "undsamp_f1score = f1_score(yr_test, y_pred_undsamp)\n",
    "undsamp_rocauc =  roc_auc_score(yr_test, random_undsamp.predict_proba(Xr_test)[:, 1])\n",
    "\n",
    "print(\"Best Params: \", random_undsamp.best_params_)\n",
    "print(\"F1:\", undsamp_f1score)\n",
    "print(\"AUC-ROC:\", undsamp_rocauc)"
   ]
  },
  {
   "cell_type": "code",
   "execution_count": 29,
   "id": "af6953a2",
   "metadata": {},
   "outputs": [
    {
     "data": {
      "image/png": "[encoded data removed]",
      "text/plain": [
       "<Figure size 800x600 with 1 Axes>"
      ]
     },
     "metadata": {},
     "output_type": "display_data"
    }
   ],
   "source": [
    "y_probs = random_undsamp.predict_proba(Xr_test)[:, 1]\n",
    "fpr, tpr, thresholds = roc_curve(yr_test, y_probs)\n",
    "plt.figure(figsize=(8, 6))\n",
    "plt.plot(fpr, tpr, label=f'UnderSampled RF (AUC = {undsamp_rocauc:.2f})', linewidth=2)\n",
    "plt.plot([0, 1], [0, 1], 'k--', label='Random Classifier')\n",
    "plt.xlabel('False Positive Rate')\n",
    "plt.ylabel('True Positive Rate')\n",
    "plt.title('ROC Curve - UnderSampling RF')\n",
    "plt.legend(loc='lower right')\n",
    "plt.grid()\n",
    "plt.show()"
   ]
  },
  {
   "cell_type": "code",
   "execution_count": 26,
   "id": "6350a95a",
   "metadata": {},
   "outputs": [
    {
     "name": "stdout",
     "output_type": "stream",
     "text": [
      "Best Params: {'solver': 'saga', 'penalty': 'l1', 'l1_ratio': np.float64(0.4444444444444444), 'C': np.float64(1438.44988828766)}\n",
      "F1-score: 0.44804318488529016\n",
      "AUC-ROC: 0.8064196546541953\n"
     ]
    }
   ],
   "source": [
    "#Logistic Regression baseline model\n",
    "\n",
    "lr = LogisticRegression(max_iter=1000, random_state=42)\n",
    "\n",
    "param_dist_lr = {\n",
    "    'penalty': ['l1', 'l2', 'elasticnet', None],\n",
    "    'C': np.logspace(-4, 4, 20),\n",
    "    'solver': ['saga'],\n",
    "    'l1_ratio': np.linspace(0, 1, 10)  # só usado se penalty='elasticnet'\n",
    "}\n",
    "\n",
    "random_search_lr = RandomizedSearchCV(\n",
    "    estimator=lr,\n",
    "    param_distributions=param_dist_lr,\n",
    "    n_iter=30,\n",
    "    cv=5,\n",
    "    scoring='f1',\n",
    "    random_state=42,\n",
    "    n_jobs=-1\n",
    ")\n",
    "\n",
    "random_search_lr.fit(X_train, y_train)\n",
    "\n",
    "best_lr = random_search_lr.best_estimator_\n",
    "\n",
    "y_pred_lr = best_lr.predict(X_test)\n",
    "y_prob_lr = best_lr.predict_proba(X_test)[:, 1]\n",
    "\n",
    "print(\"Best Params:\", random_search_lr.best_params_)\n",
    "print(\"F1-score:\", f1_score(y_test, y_pred_lr))\n",
    "print(\"AUC-ROC:\", roc_auc_score(y_test, y_prob_lr))"
   ]
  },
  {
   "cell_type": "code",
   "execution_count": null,
   "id": "70bee66c",
   "metadata": {},
   "outputs": [
    {
     "name": "stdout",
     "output_type": "stream",
     "text": [
      "Best Params: {'penalty': 'l2', 'C': np.float64(483.2930238571752)}\n",
      "F1 Score: 0.5345687811831789\n",
      "AUC-ROC: 0.8057012943313674\n"
     ]
    }
   ],
   "source": [
    "lr_balanced = LogisticRegression(class_weight='balanced', solver='liblinear', random_state=42)\n",
    "\n",
    "\n",
    "param_lr = {\n",
    "    'C': np.logspace(-3, 3, 20),\n",
    "    'penalty': ['l1', 'l2']\n",
    "}\n",
    "\n",
    "# 3. RandomizedSearchCV\n",
    "lr_search = RandomizedSearchCV(\n",
    "    estimator=lr_balanced,\n",
    "    param_distributions=param_lr,\n",
    "    n_iter=20,\n",
    "    cv=5,\n",
    "    scoring='f1',\n",
    "    random_state=42,\n",
    "    n_jobs=-1\n",
    ")\n",
    "\n",
    "\n",
    "lr_search.fit(X_train, y_train)\n",
    "\n",
    "\n",
    "y_pred_lr_bal = lr_search.predict(X_test)\n",
    "f1_lr_bal = f1_score(y_test, y_pred_lr_bal)\n",
    "roc_auc_lr_bal = roc_auc_score(y_test, lr_search.predict_proba(X_test)[:, 1])\n",
    "\n",
    "\n",
    "print(\"Best Params:\", lr_search.best_params_)\n",
    "print(\"F1 Score:\", f1_lr_bal)\n",
    "print(\"AUC-ROC:\", roc_auc_lr_bal)"
   ]
  },
  {
   "cell_type": "code",
   "execution_count": null,
   "id": "904058f7",
   "metadata": {},
   "outputs": [
    {
     "name": "stdout",
     "output_type": "stream",
     "text": [
      "Best Params: {'penalty': 'l2', 'C': np.float64(0.07847599703514611)}\n",
      "F1 Score: 0.7157057654075547\n",
      "AUC-ROC: 0.7943025540275049\n"
     ]
    }
   ],
   "source": [
    "# undersampling\n",
    "X_res_lr, y_res_lr = random_undersample(X, y, random_state=42)\n",
    "\n",
    "\n",
    "Xlr_train, Xlr_test, ylr_train, ylr_test = train_test_split(\n",
    "    X_res_lr, y_res_lr,\n",
    "    stratify=y_res_lr,\n",
    "    test_size=0.25,\n",
    "    random_state=42\n",
    ")\n",
    "\n",
    "\n",
    "lr_undersampled = LogisticRegression(solver='liblinear', random_state=42)\n",
    "\n",
    "\n",
    "param_lr = {\n",
    "    'C': np.logspace(-3, 3, 20),\n",
    "    'penalty': ['l1', 'l2']\n",
    "}\n",
    "\n",
    "\n",
    "lr_undersampling_search = RandomizedSearchCV(\n",
    "    estimator=lr_undersampled,\n",
    "    param_distributions=param_lr,\n",
    "    n_iter=20,\n",
    "    cv=5,\n",
    "    scoring='f1',\n",
    "    random_state=42,\n",
    "    n_jobs=-1\n",
    ")\n",
    "\n",
    "lr_undersampling_search.fit(Xlr_train, ylr_train)\n",
    "\n",
    "\n",
    "y_pred_lr_under = lr_undersampling_search.predict(Xlr_test)\n",
    "f1_lr_under = f1_score(ylr_test, y_pred_lr_under)\n",
    "roc_auc_lr_under = roc_auc_score(ylr_test, lr_undersampling_search.predict_proba(Xlr_test)[:, 1])\n",
    "\n",
    "\n",
    "print(\"Best Params:\", lr_undersampling_search.best_params_)\n",
    "print(\"F1 Score:\", f1_lr_under)\n",
    "print(\"AUC-ROC:\", roc_auc_lr_under)"
   ]
  },
  {
   "cell_type": "code",
   "execution_count": 34,
   "id": "c9135ce7",
   "metadata": {},
   "outputs": [
    {
     "name": "stdout",
     "output_type": "stream",
     "text": [
      "Best Params: {'kernel': 'rbf', 'gamma': 'auto', 'C': 10}\n",
      "F1 Score: 0.7558257345491388\n",
      "AUC-ROC: 0.8465869255364229\n"
     ]
    }
   ],
   "source": [
    "X_res_svc, y_res_svc = random_undersample(X, y, random_state=42)\n",
    "\n",
    "\n",
    "Xs_train, Xs_test, ys_train, ys_test = train_test_split(\n",
    "    X_res_svc, y_res_svc,\n",
    "    stratify=y_res_svc,\n",
    "    test_size=0.25,\n",
    "    random_state=42\n",
    ")\n",
    "\n",
    "\n",
    "svc = SVC(probability=True)\n",
    "\n",
    "param_svc = {\n",
    "    'C': [0.1, 1, 10],\n",
    "    'kernel': ['linear', 'rbf', 'poly'],\n",
    "    'gamma': ['scale', 'auto']\n",
    "}\n",
    "\n",
    "# 4. RandomizedSearchCV\n",
    "svc_search = RandomizedSearchCV(\n",
    "    estimator=svc,\n",
    "    param_distributions=param_svc,\n",
    "    n_iter=10,\n",
    "    cv=5,\n",
    "    scoring='f1',\n",
    "    n_jobs=-1,\n",
    "    random_state=42\n",
    ")\n",
    "\n",
    "\n",
    "svc_search.fit(Xs_train, ys_train)\n",
    "\n",
    "\n",
    "y_pred_svc = svc_search.predict(Xs_test)\n",
    "f1_svc = f1_score(ys_test, y_pred_svc)\n",
    "roc_auc_svc = roc_auc_score(ys_test, svc_search.predict_proba(Xs_test)[:, 1])\n",
    "\n",
    "print(\"Best Params:\", svc_search.best_params_)\n",
    "print(\"F1 Score:\", f1_svc)\n",
    "print(\"AUC-ROC:\", roc_auc_svc)"
   ]
  },
  {
   "cell_type": "code",
   "execution_count": 35,
   "id": "7e5323fd",
   "metadata": {},
   "outputs": [
    {
     "data": {
      "image/png": "[encoded data removed]",
      "text/plain": [
       "<Figure size 1000x600 with 1 Axes>"
      ]
     },
     "metadata": {},
     "output_type": "display_data"
    }
   ],
   "source": [
    "fpr_rf, tpr_rf, _ = roc_curve(yr_test, random_undsamp.predict_proba(Xr_test)[:, 1])\n",
    "fpr_svc, tpr_svc, _ = roc_curve(ys_test, svc_search.predict_proba(Xs_test)[:, 1])\n",
    "\n",
    "plt.figure(figsize=(10,6))\n",
    "plt.plot(fpr_rf, tpr_rf, label='Random Forest (AUC = {:.3f})'.format(undsamp_rocauc))\n",
    "plt.plot(fpr_svc, tpr_svc, label='SVC (AUC = {:.3f})'.format(roc_auc_svc))\n",
    "plt.plot([0,1], [0,1], 'k--')\n",
    "plt.xlabel('False Positive Rate')\n",
    "plt.ylabel('True Positive Rate')\n",
    "plt.title('ROC Curve Comparison')\n",
    "plt.legend(loc='lower right')\n",
    "plt.grid()\n",
    "plt.show()"
   ]
  },
  {
   "cell_type": "markdown",
   "id": "d55e52f3",
   "metadata": {},
   "source": [
    "# Model Comparison: Random Forest vs. SVC (Undersampling Strategy)\n",
    "\n",
    "Two distinct models using the same undersampling technique to address the class imbalance in the dataset had similar performances: Random Forest (tree-based ensemble) and Support Vector Classifier (kernel-based). \n",
    "\n",
    "## Key Findings:\n",
    "Both models performed well, showing strong F1-scores and high AUC-ROC values, indicating good balance between precision and recall and strong classification capability.\n",
    "\n",
    "The Random Forest slightly outperformed SVC in both metrics.\n",
    "\n",
    "Random Forest is more interpretable due to the availability of feature_importances_, which is crucial in applications like churn prediction where explainability is essential.\n",
    "\n",
    "SVC is a powerful model, but the rbf kernel acts like a black box and does not provide insight into feature relevance.\n",
    "\n",
    "In addition, Random Forest trains faster, making it more practical for iteration and scaling.\n",
    "\n",
    "## Conclusion:\n",
    "While both models are valid and delivered competitive performance, we recommend moving forward with the Random Forest model, given its:\n",
    "\n",
    "Better performance metrics,\n",
    "\n",
    "Greater interpretability, and\n",
    "\n",
    "Faster training time.\n",
    "\n",
    "This makes it a more suitable choice for real-world deployment and communication with stakeholders."
   ]
  },
  {
   "cell_type": "code",
   "execution_count": 38,
   "id": "419393e1",
   "metadata": {},
   "outputs": [
    {
     "name": "stdout",
     "output_type": "stream",
     "text": [
      "Modelo salvo em: ..\\models\\random_forest_undersample.pkl\n"
     ]
    }
   ],
   "source": [
    "best_rf = RandomForestClassifier(\n",
    "    n_estimators=200,\n",
    "    min_samples_split=5,\n",
    "    min_samples_leaf=2,\n",
    "    max_depth=None,\n",
    "    random_state=42\n",
    ")\n",
    "\n",
    "best_rf.fit(Xr_train, yr_train)\n",
    "\n",
    "save_path = os.path.join(\"..\", \"models\", \"random_forest_undersample.pkl\")\n",
    "\n",
    "joblib.dump(best_rf, '../models/random_forest_undersample.pkl')\n",
    "\n",
    "print(f\"Modelo salvo em: {save_path}\")"
   ]
  }
 ],
 "metadata": {
  "kernelspec": {
   "display_name": "churn_portf1",
   "language": "python",
   "name": "python3"
  },
  "language_info": {
   "codemirror_mode": {
    "name": "ipython",
    "version": 3
   },
   "file_extension": ".py",
   "mimetype": "text/x-python",
   "name": "python",
   "nbconvert_exporter": "python",
   "pygments_lexer": "ipython3",
   "version": "3.12.7"
  }
 },
 "nbformat": 4,
 "nbformat_minor": 5
}
